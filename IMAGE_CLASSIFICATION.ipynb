{
  "nbformat": 4,
  "nbformat_minor": 0,
  "metadata": {
    "colab": {
      "provenance": [],
      "toc_visible": true
    },
    "kernelspec": {
      "name": "python3",
      "display_name": "Python 3"
    },
    "language_info": {
      "name": "python"
    }
  },
  "cells": [
    {
      "cell_type": "code",
      "execution_count": null,
      "metadata": {
        "id": "-hTEAG76jfnb"
      },
      "outputs": [],
      "source": [
        "# Imports\n",
        "import os\n",
        "import numpy as np\n",
        "import torch\n",
        "import matplotlib.pyplot as plt\n",
        "from torchvision import transforms, models, utils, datasets\n",
        "from torch import nn\n",
        "from torch.utils.data import DataLoader, random_split\n",
        "import torch.nn.functional as F\n",
        "import torch.optim as optim\n",
        "\n",
        "from glob import glob\n",
        "from PIL import Image\n",
        "import random"
      ]
    },
    {
      "cell_type": "code",
      "source": [
        "def seed_everything(seed=42):\n",
        "    random.seed(seed)\n",
        "    torch.manual_seed(seed)\n",
        "    torch.cuda.manual_seed_all(seed)\n",
        "    np.random.seed(seed)\n",
        "    os.environ['PYTHONHASHSEED'] = str(seed)\n",
        "    torch.backends.cudnn.deterministic = True\n",
        "seed_everything()"
      ],
      "metadata": {
        "id": "VeZUcvN0jsNa"
      },
      "execution_count": null,
      "outputs": []
    },
    {
      "cell_type": "code",
      "source": [
        "DEVICE = torch.device('cuda:0' if torch.cuda.is_available() else 'cpu')"
      ],
      "metadata": {
        "id": "038F1Cz4jvaM"
      },
      "execution_count": null,
      "outputs": []
    },
    {
      "cell_type": "code",
      "source": [
        "# Inception model\n",
        "inception = models.inception_v3(pretrained = True)\n",
        "\n",
        "# freeze model parameters\n",
        "for param in inception.parameters():\n",
        "    param.requires_grad = False\n",
        "\n",
        "# fully connected layer to output 10 classes\n",
        "num_feats = inception.fc.in_features\n",
        "inception.fc = nn.Linear(num_feats, 10)\n",
        "\n",
        "inception = inception.to(DEVICE)"
      ],
      "metadata": {
        "id": "Pyf-qc1NjzXX"
      },
      "execution_count": null,
      "outputs": []
    },
    {
      "cell_type": "code",
      "source": [
        "labels = ['Apple','Kiwi','Banana','Cherry','Orange','Mango','Avocado','Pinenapple','Strawberries']"
      ],
      "metadata": {
        "id": "QEXpX03Nj2Iq"
      },
      "execution_count": null,
      "outputs": []
    },
    {
      "cell_type": "code",
      "source": [
        "# Applying transformation to data inception\n",
        "transform = transforms.Compose([\n",
        "    transforms.Resize(299),\n",
        "    transforms.CenterCrop(299),\n",
        "    transforms.ToTensor(),\n",
        "    transforms.Normalize([0.485, 0.456, 0.406], [0.229, 0.224, 0.225])\n",
        "\n",
        "])"
      ],
      "metadata": {
        "id": "bJWRQF4Nj4q7"
      },
      "execution_count": null,
      "outputs": []
    },
    {
      "cell_type": "code",
      "source": [
        "train_data = datasets.ImageFolder(root = '/content/drive/MyDrive/Data/train', transform = transform)\n",
        "train_dataloader = DataLoader(train_data, batch_size = 32, shuffle = True)\n",
        "\n",
        "val_data = datasets.ImageFolder(root = '/content/drive/MyDrive/Data/test', transform = transform)\n",
        "val_dataloader = DataLoader(val_data, batch_size = 32, shuffle = False)"
      ],
      "metadata": {
        "id": "rDFCLD9Jj7QL"
      },
      "execution_count": null,
      "outputs": []
    },
    {
      "cell_type": "code",
      "source": [
        "# Training Function inception\n",
        "def train(model, optimizer, train_loader, val_loader, n_epoch, DEVICE):\n",
        "    criterion = nn.CrossEntropyLoss()\n",
        "    result = []\n",
        "    val_res = []\n",
        "\n",
        "    for e in range(n_epoch):\n",
        "        model.train()\n",
        "        correct, total_loss = 0, 0\n",
        "        total = 0\n",
        "\n",
        "        for sample, target in train_loader:\n",
        "            sample, target = sample.to(DEVICE).float(), target.to(DEVICE).long()\n",
        "            optimizer.zero_grad()\n",
        "            outputs, aux_outputs = model(sample)\n",
        "            loss1 = criterion(outputs, target)\n",
        "            loss2 = criterion(aux_outputs, target)\n",
        "            loss = loss1 + 0.4*loss2\n",
        "            loss.backward()\n",
        "            optimizer.step()\n",
        "            total_loss += loss.item()\n",
        "            _, predicted = torch.max(outputs.data, 1)\n",
        "            total += target.size(0)\n",
        "            correct += (predicted == target).sum().item()\n",
        "\n",
        "        acc_train = 100 * correct / total\n",
        "        _, val_acc = valid(model, val_loader, DEVICE)\n",
        "        print(f'Epoch: [{e+1}/{n_epoch}], Loss: {total_loss / total:.4f}, Train Acc: {acc_train:.2f}, Val Acc: {val_acc:.2f}')\n",
        "\n",
        "        result.append(acc_train)\n",
        "        val_res.append(val_acc)\n",
        "\n",
        "    # Save results to files\n",
        "    np.savetxt('result.csv', np.array(result), fmt='%.2f', delimiter=',')\n",
        "    np.savetxt('val_result.csv', np.array(val_res), fmt='%.2f', delimiter=',')\n"
      ],
      "metadata": {
        "id": "iEZYLn5nkBQ6"
      },
      "execution_count": null,
      "outputs": []
    },
    {
      "cell_type": "code",
      "source": [
        "# Validation Function\n",
        "def valid(model, val_loader, DEVICE):\n",
        "    model.eval()\n",
        "    correct = 0\n",
        "    total = 0\n",
        "    with torch.no_grad():\n",
        "        for sample, target in val_loader:\n",
        "            sample = sample.to(DEVICE).float()\n",
        "            target = target.to(DEVICE).long()\n",
        "            outputs = model(sample)\n",
        "            _, predicted = torch.max(outputs.data, 1)\n",
        "\n",
        "            total += target.size(0)\n",
        "            correct += (predicted == target).sum().item()\n",
        "\n",
        "    val_accuracy = 100 * correct / total\n",
        "    return [], val_accuracy"
      ],
      "metadata": {
        "id": "3hP5Iv7qkGcz"
      },
      "execution_count": null,
      "outputs": []
    },
    {
      "cell_type": "code",
      "source": [
        "def plot():\n",
        "    train_data = np.loadtxt('result.csv', delimiter=',')\n",
        "    val_data = np.loadtxt('val_result.csv', delimiter=',')\n",
        "    plt.figure()\n",
        "    plt.plot(range(1, len(train_data) + 1), train_data, color='blue', label='Train')\n",
        "    plt.plot(range(1, len(val_data) + 1), val_data, color='red', label='Validation')\n",
        "    plt.legend()\n",
        "    plt.xlabel('Epoch', fontsize=14)\n",
        "    plt.ylabel('Accuracy (%)', fontsize=14)\n",
        "    plt.title('Train and Validation Accuracy', fontsize=16)\n",
        "    plt.savefig('plot.png')\n",
        "    plt.show()"
      ],
      "metadata": {
        "id": "4PWaBw7-kKfN"
      },
      "execution_count": null,
      "outputs": []
    },
    {
      "cell_type": "code",
      "source": [
        "optimizer = optim.SGD(inception.fc.parameters(), lr=0.001, momentum=0.9)\n",
        "train(inception, optimizer, train_dataloader, val_dataloader, n_epoch=10, DEVICE=DEVICE)\n",
        "plot()"
      ],
      "metadata": {
        "id": "rFcjOnRZkM-8"
      },
      "execution_count": null,
      "outputs": []
    },
    {
      "cell_type": "code",
      "source": [
        "# Prediction Plots\n",
        "with torch.no_grad():\n",
        "    image_paths = glob('/content/drive/MyDrive/Data/predict/*.jpeg')\n",
        "    random.shuffle(image_paths)\n",
        "    selected_image_paths = image_paths[:10]\n",
        "    fig, axes = plt.subplots(2, 5, figsize=(15, 10))\n",
        "    axes = axes.ravel()\n",
        "\n",
        "    for i, fpath in enumerate(selected_image_paths):\n",
        "        image = Image.open(fpath).convert(\"RGB\")\n",
        "        image_tensor = transform(image).to(DEVICE)\n",
        "        output = inception(image_tensor.unsqueeze(0))\n",
        "#         output = resnet(image_tensor.unsqueeze(0))\n",
        "#         output = mobilenet(image_tensor.unsqueeze(0))\n",
        "        _, prediction = torch.max(output, 1)\n",
        "        predicted_label = labels[prediction.cpu().item()]\n",
        "        axes[i].imshow(image)\n",
        "        axes[i].set_title(f\"Predicted: {predicted_label}\")\n",
        "        axes[i].axis('off')\n",
        "\n",
        "    for j in range(i+1, 6):\n",
        "        axes[j].axis('off')\n",
        "\n",
        "    plt.tight_layout()\n",
        "    plt.show()"
      ],
      "metadata": {
        "id": "RB6akLfOkYZt"
      },
      "execution_count": null,
      "outputs": []
    }
  ]
}